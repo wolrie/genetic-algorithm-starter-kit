{
 "cells": [
  {
   "cell_type": "markdown",
   "metadata": {},
   "source": [
    "**A Crayon's Data Insights Knowledge Pill**\n",
    "# Intro to Genetic Algorithms\n",
    "\n",
    "We briefly introduce an implementation of a genetic algorithm by example and showcase how to solve sudokus using this approach.\n",
    "\n",
    "This notebook and all accompanying code has been created for a knowledge exchange within Crayon's Data Insights Team.\n",
    "\n",
    "### Table of Contents\n",
    "1. [Introducing a Genetic Algorithm](#intro)\n",
    "1. [Example Showcase: Solving Sudokus](#example)"
   ]
  },
  {
   "cell_type": "markdown",
   "metadata": {},
   "source": [
    "<a id='intro'></a>\n",
    "***\n",
    "### 1. Introducing a Genetic Algorithm\n",
    "\n",
    "Let's start with some intuition and fix terminology: Every `Organism` has a [chromosome](https://simple.wikipedia.org/wiki/Chromosome) and each `chromosome` is made up of `genes` [1]. Organisms can reproduce. Let's focus on organisms that need another `Organism` to reproduce and call it an `Individual`.\n",
    "\n",
    "Without further ado let's create our first genetic algorithm from scratch. \n",
    "\n",
    "[1] The focus here is not biology and any usage of or relation between biological terms might be completely wrong. Mansoureh and Jill may be cringing right now. But - for the sake of this notebook - I live in ignorant bliss and don't care at all."
   ]
  },
  {
   "cell_type": "code",
   "execution_count": null,
   "metadata": {},
   "outputs": [],
   "source": [
    "%load_ext autoreload\n",
    "%autoreload 2\n",
    "\n",
    "import json\n",
    "\n",
    "from genetic_algorithm_starter_kit.core import (\n",
    "    Individual,\n",
    "    Organism,\n",
    "    Population,\n",
    ")"
   ]
  },
  {
   "cell_type": "markdown",
   "metadata": {},
   "source": [
    "Let's start by creating an organism."
   ]
  },
  {
   "cell_type": "code",
   "execution_count": null,
   "metadata": {},
   "outputs": [],
   "source": [
    "Organism.create()"
   ]
  },
  {
   "cell_type": "markdown",
   "metadata": {},
   "source": [
    "You can also create an organism with a specific chromosome length."
   ]
  },
  {
   "cell_type": "code",
   "execution_count": null,
   "metadata": {},
   "outputs": [],
   "source": [
    "Organism.create(5)"
   ]
  },
  {
   "cell_type": "markdown",
   "metadata": {},
   "source": [
    "There is a pool of possible \"genes\" that can be used for creating an organism in the background."
   ]
  },
  {
   "cell_type": "code",
   "execution_count": null,
   "metadata": {},
   "outputs": [],
   "source": [
    "Organism.GENES"
   ]
  },
  {
   "cell_type": "markdown",
   "metadata": {},
   "source": [
    "It's boring if we are able to only create Organisms and can't do anything further. Let's build a metric to be able to tell whether a chromosome is good or bad, say, with respect to a reference chromosome. Let's judge it by how similar it is to a reference."
   ]
  },
  {
   "cell_type": "code",
   "execution_count": null,
   "metadata": {},
   "outputs": [],
   "source": [
    "def chromosome_similarity_score(chromosome: str, reference_chromosome: str) -> float:\n",
    "    \"\"\"Evaluate normalized similarity score for an individual w.r.t. a reference.\"\"\"\n",
    "    score = 0\n",
    "    for idx, gene in enumerate(chromosome):\n",
    "        if gene == reference_chromosome[idx]:\n",
    "            score += 1\n",
    "    return round(score/len(reference_chromosome), 5)"
   ]
  },
  {
   "cell_type": "markdown",
   "metadata": {},
   "source": [
    "Let's check this newly minted metric in action."
   ]
  },
  {
   "cell_type": "code",
   "execution_count": null,
   "metadata": {},
   "outputs": [],
   "source": [
    "reference_chromosome = \"hello, world!\"\n",
    "a = Organism.create(len(reference_chromosome))\n",
    "score = chromosome_similarity_score(a.chromosome, reference_chromosome)\n",
    "\n",
    "print(f\"Reference:\\t{reference_chromosome}\\nOrganism:\\t{a.chromosome}\\nScore:\\t\\t{score} %\")"
   ]
  },
  {
   "cell_type": "markdown",
   "metadata": {},
   "source": [
    "Randomly created Organisms are mostly bad, i.e. score very low w.r.t. this new metric. How can we leverage the fact that some of the randomly created organisms score higher and use them to create new ones that score similarly well or even better? That's where genetic algorithms come into play!\n",
    "\n",
    "The following cell introduces the class `Individual`. It too can create individuals of specific chromosome length."
   ]
  },
  {
   "cell_type": "code",
   "execution_count": null,
   "metadata": {},
   "outputs": [],
   "source": [
    "# Individuals can be created with specific chromosome length\n",
    "chromosome_length = 50\n",
    "\n",
    "ind0 = Individual.create(chromosome_length)\n",
    "ind1 = Individual.create(chromosome_length)\n",
    "ind0, ind1"
   ]
  },
  {
   "cell_type": "markdown",
   "metadata": {},
   "source": [
    "The class `Individual` extends the functionality of `Organism` by being able to reproduce with a partner."
   ]
  },
  {
   "cell_type": "code",
   "execution_count": null,
   "metadata": {},
   "outputs": [],
   "source": [
    "child = ind0.reproduce(ind1)\n",
    "child"
   ]
  },
  {
   "cell_type": "markdown",
   "metadata": {},
   "source": [
    "With our metric defined earlier we can check the similarity - or fitness - of the child chromosome with its parent chromosomes."
   ]
  },
  {
   "cell_type": "code",
   "execution_count": null,
   "metadata": {},
   "outputs": [],
   "source": [
    "# Let's check how much was inherited from each of the two parent chromosomes\n",
    "fitness0 = chromosome_similarity_score(child.chromosome, ind0.chromosome)\n",
    "fitness1 = chromosome_similarity_score(child.chromosome, ind1.chromosome)\n",
    "\n",
    "print(f\"Parent 0:\\t{fitness0}\\nParent 1:\\t{fitness1}\\nMutation:\\t{round(1-fitness0-fitness1, 5)}\")"
   ]
  },
  {
   "cell_type": "markdown",
   "metadata": {},
   "source": [
    "So the child chromosome is similar to its parent chromosomes. How would you implement `reproduce` such that genes can be inherited like in the case at hand? The implementation being used here is printed below."
   ]
  },
  {
   "cell_type": "markdown",
   "metadata": {},
   "source": [
    "```python\n",
    "class Individual(Organism):\n",
    "\n",
    "\tprob_cutoffs = {\n",
    "\t\t\"self\": 0.45,\n",
    "\t\t\"mate\": 0.45 * 2,\n",
    "\t}\n",
    "\n",
    "\tdef __init__(self, chromosome: str = \"\", *args):\n",
    "\t\tsuper().__init__(chromosome, *args)\n",
    "\n",
    "\tdef reproduce(self, mate: Individual) -> Individual:\n",
    "\t\t\"\"\"Perform reproduction and produce new offspring.\"\"\"\n",
    "\t\tchild_chromosome = []\n",
    "\t\tfor gene_self, gene_mate in zip(self.chromosome, mate.chromosome):\n",
    "\t\t\tprob = random.random()\n",
    "\t\t\tif prob < self.prob_cutoffs[\"self\"]:\n",
    "\t\t\t\t# get gene from self\n",
    "\t\t\t\tchild_chromosome.append(gene_self)\n",
    "\t\t\telif prob < self.prob_cutoffs[\"mate\"]:\n",
    "\t\t\t\t# get gene from mate\n",
    "\t\t\t\tchild_chromosome.append(gene_mate)\n",
    "\t\t\telse:\n",
    "\t\t\t\t# random mutation\n",
    "\t\t\t\tchild_chromosome.append(random.choice(super().GENES))\n",
    "\t\treturn Individual(\"\".join(child_chromosome))\n",
    "```"
   ]
  },
  {
   "cell_type": "markdown",
   "metadata": {},
   "source": [
    "In case of a reference - or *target* - chromosome we could simply create a LOT of individuals - a *population* - and see whether they are similar or not. The more complicated the target chromosome is the more unlikely it is to create it randomly (at least given only a limited amount of time and computational resources). Nevertheless, some will certainly be more similar - or better in this case - than others. Let's introduce some terminology and call the similarity here *fitness*, i.e. individuals with a more similar chromosome to the target are called fitter than others.\n",
    "\n",
    "We can order all of the created individuals by their fitness. The next step is easy: Simply take the fittest individuals and let only them reproduce to get another set of individuals, i.e. the next generation. You can add further rules, e.g. take the fittest n-th percentile of a generation and copy them to the next generation et cetera, however, the important thing is to order the population by fitness and let only the fittest individuals reproduce offspring."
   ]
  },
  {
   "cell_type": "code",
   "execution_count": null,
   "metadata": {},
   "outputs": [],
   "source": [
    "# create a population and check out its individuals\n",
    "pop = Population(size=10)\n",
    "pop.individuals"
   ]
  },
  {
   "cell_type": "code",
   "execution_count": null,
   "metadata": {},
   "outputs": [],
   "source": [
    "# Execute your first genetic algorithm\n",
    "pop = Population(\n",
    "    size=100,\n",
    "    target_chromosome=\"hello, world!\",\n",
    ")\n",
    "pop.evolve()"
   ]
  },
  {
   "cell_type": "code",
   "execution_count": null,
   "metadata": {},
   "outputs": [],
   "source": [
    "# Load mystery chromosome\n",
    "with open(\"etc/config.json\") as f:\n",
    "    config = json.load(f)\n",
    "\n",
    "mystery_chromosome = config[\"target_chromosome\"]"
   ]
  },
  {
   "cell_type": "code",
   "execution_count": null,
   "metadata": {},
   "outputs": [],
   "source": [
    "# Execute genetic algorithm to breed for the mystery chromosome\n",
    "pop = Population(\n",
    "    size=500,\n",
    "    target_chromosome=mystery_chromosome,\n",
    ")\n",
    "pop.evolve(verbose=False)"
   ]
  },
  {
   "cell_type": "markdown",
   "metadata": {},
   "source": [
    "<a id='example'></a>\n",
    "***\n",
    "### 2. Example Showcase: Solving Sudokus\n",
    "\n",
    "The previous example hints at the fact that a genetic algorithm can be used as an approach for optimization, however, it is also quite artificial as the target to be optimized for has to be provided. In this section we go over a more realistic and practical example by dropping this requirement and show how to use a genetic algorithm for solving a sudoku."
   ]
  },
  {
   "cell_type": "code",
   "execution_count": null,
   "metadata": {},
   "outputs": [],
   "source": [
    "from sudoku_solver.sudoku import Sudoku\n",
    "from sudoku_solver.data.sudoku_configurations import valid_starting_position"
   ]
  },
  {
   "cell_type": "markdown",
   "metadata": {},
   "source": [
    "Let's load a starting position."
   ]
  },
  {
   "cell_type": "code",
   "execution_count": null,
   "metadata": {},
   "outputs": [],
   "source": [
    "sudoku = Sudoku(valid_starting_position)\n",
    "sudoku.board"
   ]
  },
  {
   "cell_type": "markdown",
   "metadata": {},
   "source": [
    "To check for validity lateron we solve the sudoku (now with via backtracking algorithm) and save the solution into memory."
   ]
  },
  {
   "cell_type": "code",
   "execution_count": null,
   "metadata": {},
   "outputs": [],
   "source": [
    "sudoku.solve()\n",
    "solved_board = sudoku.board\n",
    "solved_board"
   ]
  },
  {
   "cell_type": "markdown",
   "metadata": {},
   "source": [
    "In order to implement a genetic algorithm that solves a sudoku some metrics needs to be implemented - one for every rule that defines as solved sudoku. Check out the docstring of `Sudoku` below for a list of these rules."
   ]
  },
  {
   "cell_type": "code",
   "execution_count": null,
   "metadata": {},
   "outputs": [],
   "source": [
    "print(Sudoku.__doc__)"
   ]
  },
  {
   "cell_type": "markdown",
   "metadata": {},
   "source": [
    "We can implement a fitness score for each of these rules which judges how many unique valid digits are i) in each row ii) in each column and\n",
    "iii) in each box. Below are these scores printed for the starting position seen ealier. We can see that they are all equally bad."
   ]
  },
  {
   "cell_type": "code",
   "execution_count": null,
   "metadata": {},
   "outputs": [],
   "source": [
    "genetic_sudoku = Sudoku(valid_starting_position)\n",
    "genetic_sudoku.fitness_score_boxes, genetic_sudoku.fitness_score_cols, genetic_sudoku.fitness_score_rows"
   ]
  },
  {
   "cell_type": "markdown",
   "metadata": {},
   "source": [
    "So far there are 3 metrics and all are equally important, however, we need to choose a single metric [1] in order to judge which sudoku is better than another one so that a \"fitter\" subset of the population can be chosen for reproduction. Since all 3 rules must be satisfied in order for a sudoku to be classified as solved we cannot choose one of these metrics exclusively. Let's simply take their mean as an overall fitness score.\n",
    "\n",
    "\n",
    "[1] Generally speaking, this is not a strict requirement but is more straightforward and builds upon the previously seen example building upon organisms, individuals, and populations."
   ]
  },
  {
   "cell_type": "code",
   "execution_count": null,
   "metadata": {},
   "outputs": [],
   "source": [
    "# Mean of the fitness scores for boxes, columns, and rows\n",
    "genetic_sudoku.fitness_score"
   ]
  },
  {
   "cell_type": "markdown",
   "metadata": {},
   "source": [
    "Finally let's see this genetic algorithm in action."
   ]
  },
  {
   "cell_type": "code",
   "execution_count": null,
   "metadata": {},
   "outputs": [],
   "source": [
    "# Solve sudoku using a genetic algorithm. Depending on the inputs this can take several minutes.\n",
    "genetic_sudoku.evolve(\n",
    "    population_size=5_000,\n",
    "    lift_factor=0.25,\n",
    "    verbose=False,\n",
    ")"
   ]
  },
  {
   "cell_type": "markdown",
   "metadata": {},
   "source": [
    "Finally, let's verify that the configuration found via the genetic algorithm is actually a solution."
   ]
  },
  {
   "cell_type": "code",
   "execution_count": null,
   "metadata": {},
   "outputs": [],
   "source": [
    "# Verify that the board is solved\n",
    "genetic_sudoku.board == solved_board"
   ]
  },
  {
   "cell_type": "markdown",
   "metadata": {},
   "source": [
    "Hooray, we're done! Hope you had fun."
   ]
  },
  {
   "cell_type": "code",
   "execution_count": null,
   "metadata": {},
   "outputs": [],
   "source": []
  }
 ],
 "metadata": {
  "kernelspec": {
   "display_name": "Python 3.10.5 64-bit",
   "language": "python",
   "name": "python3"
  },
  "language_info": {
   "codemirror_mode": {
    "name": "ipython",
    "version": 3
   },
   "file_extension": ".py",
   "mimetype": "text/x-python",
   "name": "python",
   "nbconvert_exporter": "python",
   "pygments_lexer": "ipython3",
   "version": "3.10.5"
  },
  "orig_nbformat": 4,
  "vscode": {
   "interpreter": {
    "hash": "7e1998ff7f8aa20ada591c520b972326324e5ea05489af9e422744c7c09f6dad"
   }
  }
 },
 "nbformat": 4,
 "nbformat_minor": 2
}
